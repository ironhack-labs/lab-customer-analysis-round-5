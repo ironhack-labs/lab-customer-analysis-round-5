{
 "cells": [
  {
   "cell_type": "code",
   "execution_count": 392,
   "id": "0a71fc21",
   "metadata": {},
   "outputs": [],
   "source": [
    "import pandas as pd\n",
    "import numpy as np\n",
    "import matplotlib.pyplot as plt\n",
    "import seaborn as sns"
   ]
  },
  {
   "cell_type": "code",
   "execution_count": 393,
   "id": "d8f06278",
   "metadata": {},
   "outputs": [],
   "source": [
    "numerical = pd.read_csv('numerical.csv')"
   ]
  },
  {
   "cell_type": "code",
   "execution_count": 394,
   "id": "1caa2fa5",
   "metadata": {},
   "outputs": [
    {
     "data": {
      "text/html": [
       "<div>\n",
       "<style scoped>\n",
       "    .dataframe tbody tr th:only-of-type {\n",
       "        vertical-align: middle;\n",
       "    }\n",
       "\n",
       "    .dataframe tbody tr th {\n",
       "        vertical-align: top;\n",
       "    }\n",
       "\n",
       "    .dataframe thead th {\n",
       "        text-align: right;\n",
       "    }\n",
       "</style>\n",
       "<table border=\"1\" class=\"dataframe\">\n",
       "  <thead>\n",
       "    <tr style=\"text-align: right;\">\n",
       "      <th></th>\n",
       "      <th>Unnamed: 0.1</th>\n",
       "      <th>Unnamed: 0</th>\n",
       "      <th>customer lifetime value</th>\n",
       "      <th>income</th>\n",
       "      <th>monthly premium auto</th>\n",
       "      <th>months since last claim</th>\n",
       "      <th>months since policy inception</th>\n",
       "      <th>number of open complaints</th>\n",
       "      <th>number of policies</th>\n",
       "      <th>total claim amount</th>\n",
       "      <th>month</th>\n",
       "    </tr>\n",
       "  </thead>\n",
       "  <tbody>\n",
       "    <tr>\n",
       "      <th>0</th>\n",
       "      <td>2</td>\n",
       "      <td>2</td>\n",
       "      <td>14947.917300</td>\n",
       "      <td>22139</td>\n",
       "      <td>100</td>\n",
       "      <td>34.0</td>\n",
       "      <td>31</td>\n",
       "      <td>0.0</td>\n",
       "      <td>2</td>\n",
       "      <td>480.000000</td>\n",
       "      <td>2</td>\n",
       "    </tr>\n",
       "    <tr>\n",
       "      <th>1</th>\n",
       "      <td>3</td>\n",
       "      <td>3</td>\n",
       "      <td>22332.439460</td>\n",
       "      <td>49078</td>\n",
       "      <td>97</td>\n",
       "      <td>10.0</td>\n",
       "      <td>3</td>\n",
       "      <td>0.0</td>\n",
       "      <td>2</td>\n",
       "      <td>484.013411</td>\n",
       "      <td>1</td>\n",
       "    </tr>\n",
       "    <tr>\n",
       "      <th>2</th>\n",
       "      <td>10</td>\n",
       "      <td>10</td>\n",
       "      <td>5154.764074</td>\n",
       "      <td>82730</td>\n",
       "      <td>127</td>\n",
       "      <td>13.0</td>\n",
       "      <td>31</td>\n",
       "      <td>0.0</td>\n",
       "      <td>1</td>\n",
       "      <td>442.521087</td>\n",
       "      <td>1</td>\n",
       "    </tr>\n",
       "    <tr>\n",
       "      <th>3</th>\n",
       "      <td>13</td>\n",
       "      <td>13</td>\n",
       "      <td>5454.587929</td>\n",
       "      <td>66334</td>\n",
       "      <td>69</td>\n",
       "      <td>25.0</td>\n",
       "      <td>25</td>\n",
       "      <td>0.0</td>\n",
       "      <td>4</td>\n",
       "      <td>331.200000</td>\n",
       "      <td>1</td>\n",
       "    </tr>\n",
       "    <tr>\n",
       "      <th>4</th>\n",
       "      <td>16</td>\n",
       "      <td>16</td>\n",
       "      <td>5326.677654</td>\n",
       "      <td>76717</td>\n",
       "      <td>66</td>\n",
       "      <td>26.0</td>\n",
       "      <td>10</td>\n",
       "      <td>0.0</td>\n",
       "      <td>6</td>\n",
       "      <td>300.528579</td>\n",
       "      <td>2</td>\n",
       "    </tr>\n",
       "    <tr>\n",
       "      <th>...</th>\n",
       "      <td>...</td>\n",
       "      <td>...</td>\n",
       "      <td>...</td>\n",
       "      <td>...</td>\n",
       "      <td>...</td>\n",
       "      <td>...</td>\n",
       "      <td>...</td>\n",
       "      <td>...</td>\n",
       "      <td>...</td>\n",
       "      <td>...</td>\n",
       "      <td>...</td>\n",
       "    </tr>\n",
       "    <tr>\n",
       "      <th>4538</th>\n",
       "      <td>10902</td>\n",
       "      <td>10902</td>\n",
       "      <td>3579.023825</td>\n",
       "      <td>28304</td>\n",
       "      <td>91</td>\n",
       "      <td>10.0</td>\n",
       "      <td>30</td>\n",
       "      <td>2.0</td>\n",
       "      <td>1</td>\n",
       "      <td>655.200000</td>\n",
       "      <td>1</td>\n",
       "    </tr>\n",
       "    <tr>\n",
       "      <th>4539</th>\n",
       "      <td>10903</td>\n",
       "      <td>10903</td>\n",
       "      <td>2771.663013</td>\n",
       "      <td>59855</td>\n",
       "      <td>74</td>\n",
       "      <td>30.0</td>\n",
       "      <td>82</td>\n",
       "      <td>4.0</td>\n",
       "      <td>1</td>\n",
       "      <td>355.200000</td>\n",
       "      <td>1</td>\n",
       "    </tr>\n",
       "    <tr>\n",
       "      <th>4540</th>\n",
       "      <td>10904</td>\n",
       "      <td>10904</td>\n",
       "      <td>19228.463620</td>\n",
       "      <td>0</td>\n",
       "      <td>187</td>\n",
       "      <td>14.0</td>\n",
       "      <td>32</td>\n",
       "      <td>0.0</td>\n",
       "      <td>2</td>\n",
       "      <td>897.600000</td>\n",
       "      <td>2</td>\n",
       "    </tr>\n",
       "    <tr>\n",
       "      <th>4541</th>\n",
       "      <td>10906</td>\n",
       "      <td>10906</td>\n",
       "      <td>5259.444853</td>\n",
       "      <td>61146</td>\n",
       "      <td>65</td>\n",
       "      <td>7.0</td>\n",
       "      <td>68</td>\n",
       "      <td>0.0</td>\n",
       "      <td>6</td>\n",
       "      <td>273.018929</td>\n",
       "      <td>1</td>\n",
       "    </tr>\n",
       "    <tr>\n",
       "      <th>4542</th>\n",
       "      <td>10908</td>\n",
       "      <td>10908</td>\n",
       "      <td>11971.977650</td>\n",
       "      <td>64195</td>\n",
       "      <td>158</td>\n",
       "      <td>0.0</td>\n",
       "      <td>27</td>\n",
       "      <td>4.0</td>\n",
       "      <td>6</td>\n",
       "      <td>618.288849</td>\n",
       "      <td>2</td>\n",
       "    </tr>\n",
       "  </tbody>\n",
       "</table>\n",
       "<p>4543 rows × 11 columns</p>\n",
       "</div>"
      ],
      "text/plain": [
       "      Unnamed: 0.1  Unnamed: 0  customer lifetime value  income  \\\n",
       "0                2           2             14947.917300   22139   \n",
       "1                3           3             22332.439460   49078   \n",
       "2               10          10              5154.764074   82730   \n",
       "3               13          13              5454.587929   66334   \n",
       "4               16          16              5326.677654   76717   \n",
       "...            ...         ...                      ...     ...   \n",
       "4538         10902       10902              3579.023825   28304   \n",
       "4539         10903       10903              2771.663013   59855   \n",
       "4540         10904       10904             19228.463620       0   \n",
       "4541         10906       10906              5259.444853   61146   \n",
       "4542         10908       10908             11971.977650   64195   \n",
       "\n",
       "      monthly premium auto  months since last claim  \\\n",
       "0                      100                     34.0   \n",
       "1                       97                     10.0   \n",
       "2                      127                     13.0   \n",
       "3                       69                     25.0   \n",
       "4                       66                     26.0   \n",
       "...                    ...                      ...   \n",
       "4538                    91                     10.0   \n",
       "4539                    74                     30.0   \n",
       "4540                   187                     14.0   \n",
       "4541                    65                      7.0   \n",
       "4542                   158                      0.0   \n",
       "\n",
       "      months since policy inception  number of open complaints  \\\n",
       "0                                31                        0.0   \n",
       "1                                 3                        0.0   \n",
       "2                                31                        0.0   \n",
       "3                                25                        0.0   \n",
       "4                                10                        0.0   \n",
       "...                             ...                        ...   \n",
       "4538                             30                        2.0   \n",
       "4539                             82                        4.0   \n",
       "4540                             32                        0.0   \n",
       "4541                             68                        0.0   \n",
       "4542                             27                        4.0   \n",
       "\n",
       "      number of policies  total claim amount  month  \n",
       "0                      2          480.000000      2  \n",
       "1                      2          484.013411      1  \n",
       "2                      1          442.521087      1  \n",
       "3                      4          331.200000      1  \n",
       "4                      6          300.528579      2  \n",
       "...                  ...                 ...    ...  \n",
       "4538                   1          655.200000      1  \n",
       "4539                   1          355.200000      1  \n",
       "4540                   2          897.600000      2  \n",
       "4541                   6          273.018929      1  \n",
       "4542                   6          618.288849      2  \n",
       "\n",
       "[4543 rows x 11 columns]"
      ]
     },
     "execution_count": 394,
     "metadata": {},
     "output_type": "execute_result"
    }
   ],
   "source": [
    "numerical"
   ]
  },
  {
   "cell_type": "code",
   "execution_count": 395,
   "id": "5576b0e1",
   "metadata": {},
   "outputs": [
    {
     "data": {
      "text/html": [
       "<div>\n",
       "<style scoped>\n",
       "    .dataframe tbody tr th:only-of-type {\n",
       "        vertical-align: middle;\n",
       "    }\n",
       "\n",
       "    .dataframe tbody tr th {\n",
       "        vertical-align: top;\n",
       "    }\n",
       "\n",
       "    .dataframe thead th {\n",
       "        text-align: right;\n",
       "    }\n",
       "</style>\n",
       "<table border=\"1\" class=\"dataframe\">\n",
       "  <thead>\n",
       "    <tr style=\"text-align: right;\">\n",
       "      <th></th>\n",
       "      <th>Unnamed: 0.1</th>\n",
       "      <th>Unnamed: 0</th>\n",
       "      <th>customer lifetime value</th>\n",
       "      <th>income</th>\n",
       "      <th>monthly premium auto</th>\n",
       "      <th>months since last claim</th>\n",
       "      <th>months since policy inception</th>\n",
       "      <th>number of open complaints</th>\n",
       "      <th>number of policies</th>\n",
       "      <th>total claim amount</th>\n",
       "      <th>month</th>\n",
       "    </tr>\n",
       "  </thead>\n",
       "  <tbody>\n",
       "    <tr>\n",
       "      <th>0</th>\n",
       "      <td>2</td>\n",
       "      <td>2</td>\n",
       "      <td>14947.917300</td>\n",
       "      <td>22139</td>\n",
       "      <td>100</td>\n",
       "      <td>34.0</td>\n",
       "      <td>31</td>\n",
       "      <td>0.0</td>\n",
       "      <td>2</td>\n",
       "      <td>480.000000</td>\n",
       "      <td>2</td>\n",
       "    </tr>\n",
       "    <tr>\n",
       "      <th>1</th>\n",
       "      <td>3</td>\n",
       "      <td>3</td>\n",
       "      <td>22332.439460</td>\n",
       "      <td>49078</td>\n",
       "      <td>97</td>\n",
       "      <td>10.0</td>\n",
       "      <td>3</td>\n",
       "      <td>0.0</td>\n",
       "      <td>2</td>\n",
       "      <td>484.013411</td>\n",
       "      <td>1</td>\n",
       "    </tr>\n",
       "    <tr>\n",
       "      <th>2</th>\n",
       "      <td>10</td>\n",
       "      <td>10</td>\n",
       "      <td>5154.764074</td>\n",
       "      <td>82730</td>\n",
       "      <td>127</td>\n",
       "      <td>13.0</td>\n",
       "      <td>31</td>\n",
       "      <td>0.0</td>\n",
       "      <td>1</td>\n",
       "      <td>442.521087</td>\n",
       "      <td>1</td>\n",
       "    </tr>\n",
       "    <tr>\n",
       "      <th>3</th>\n",
       "      <td>13</td>\n",
       "      <td>13</td>\n",
       "      <td>5454.587929</td>\n",
       "      <td>66334</td>\n",
       "      <td>69</td>\n",
       "      <td>25.0</td>\n",
       "      <td>25</td>\n",
       "      <td>0.0</td>\n",
       "      <td>4</td>\n",
       "      <td>331.200000</td>\n",
       "      <td>1</td>\n",
       "    </tr>\n",
       "    <tr>\n",
       "      <th>4</th>\n",
       "      <td>16</td>\n",
       "      <td>16</td>\n",
       "      <td>5326.677654</td>\n",
       "      <td>76717</td>\n",
       "      <td>66</td>\n",
       "      <td>26.0</td>\n",
       "      <td>10</td>\n",
       "      <td>0.0</td>\n",
       "      <td>6</td>\n",
       "      <td>300.528579</td>\n",
       "      <td>2</td>\n",
       "    </tr>\n",
       "  </tbody>\n",
       "</table>\n",
       "</div>"
      ],
      "text/plain": [
       "   Unnamed: 0.1  Unnamed: 0  customer lifetime value  income  \\\n",
       "0             2           2             14947.917300   22139   \n",
       "1             3           3             22332.439460   49078   \n",
       "2            10          10              5154.764074   82730   \n",
       "3            13          13              5454.587929   66334   \n",
       "4            16          16              5326.677654   76717   \n",
       "\n",
       "   monthly premium auto  months since last claim  \\\n",
       "0                   100                     34.0   \n",
       "1                    97                     10.0   \n",
       "2                   127                     13.0   \n",
       "3                    69                     25.0   \n",
       "4                    66                     26.0   \n",
       "\n",
       "   months since policy inception  number of open complaints  \\\n",
       "0                             31                        0.0   \n",
       "1                              3                        0.0   \n",
       "2                             31                        0.0   \n",
       "3                             25                        0.0   \n",
       "4                             10                        0.0   \n",
       "\n",
       "   number of policies  total claim amount  month  \n",
       "0                   2          480.000000      2  \n",
       "1                   2          484.013411      1  \n",
       "2                   1          442.521087      1  \n",
       "3                   4          331.200000      1  \n",
       "4                   6          300.528579      2  "
      ]
     },
     "execution_count": 395,
     "metadata": {},
     "output_type": "execute_result"
    }
   ],
   "source": [
    "numerical.head()"
   ]
  },
  {
   "cell_type": "code",
   "execution_count": 396,
   "id": "af47ad0f",
   "metadata": {},
   "outputs": [],
   "source": [
    "numerical.drop(['Unnamed: 0.1'],axis=1,inplace=True)"
   ]
  },
  {
   "cell_type": "code",
   "execution_count": 397,
   "id": "6731ae47",
   "metadata": {},
   "outputs": [],
   "source": [
    "numerical.drop(['Unnamed: 0'],axis=1,inplace=True)"
   ]
  },
  {
   "cell_type": "code",
   "execution_count": 398,
   "id": "19c70131",
   "metadata": {},
   "outputs": [],
   "source": [
    "numerical.drop(['month'],axis=1,inplace=True)"
   ]
  },
  {
   "cell_type": "code",
   "execution_count": null,
   "id": "46bd2d14",
   "metadata": {},
   "outputs": [],
   "source": []
  },
  {
   "cell_type": "code",
   "execution_count": 401,
   "id": "0f7927cb",
   "metadata": {},
   "outputs": [
    {
     "data": {
      "text/html": [
       "<div>\n",
       "<style scoped>\n",
       "    .dataframe tbody tr th:only-of-type {\n",
       "        vertical-align: middle;\n",
       "    }\n",
       "\n",
       "    .dataframe tbody tr th {\n",
       "        vertical-align: top;\n",
       "    }\n",
       "\n",
       "    .dataframe thead th {\n",
       "        text-align: right;\n",
       "    }\n",
       "</style>\n",
       "<table border=\"1\" class=\"dataframe\">\n",
       "  <thead>\n",
       "    <tr style=\"text-align: right;\">\n",
       "      <th></th>\n",
       "      <th>customer lifetime value</th>\n",
       "      <th>income</th>\n",
       "      <th>monthly premium auto</th>\n",
       "      <th>months since last claim</th>\n",
       "      <th>months since policy inception</th>\n",
       "      <th>number of open complaints</th>\n",
       "      <th>number of policies</th>\n",
       "      <th>total claim amount</th>\n",
       "    </tr>\n",
       "  </thead>\n",
       "  <tbody>\n",
       "    <tr>\n",
       "      <th>0</th>\n",
       "      <td>14947.917300</td>\n",
       "      <td>22139</td>\n",
       "      <td>100</td>\n",
       "      <td>34.0</td>\n",
       "      <td>31</td>\n",
       "      <td>0.0</td>\n",
       "      <td>2</td>\n",
       "      <td>480.000000</td>\n",
       "    </tr>\n",
       "    <tr>\n",
       "      <th>1</th>\n",
       "      <td>22332.439460</td>\n",
       "      <td>49078</td>\n",
       "      <td>97</td>\n",
       "      <td>10.0</td>\n",
       "      <td>3</td>\n",
       "      <td>0.0</td>\n",
       "      <td>2</td>\n",
       "      <td>484.013411</td>\n",
       "    </tr>\n",
       "    <tr>\n",
       "      <th>2</th>\n",
       "      <td>5154.764074</td>\n",
       "      <td>82730</td>\n",
       "      <td>127</td>\n",
       "      <td>13.0</td>\n",
       "      <td>31</td>\n",
       "      <td>0.0</td>\n",
       "      <td>1</td>\n",
       "      <td>442.521087</td>\n",
       "    </tr>\n",
       "    <tr>\n",
       "      <th>3</th>\n",
       "      <td>5454.587929</td>\n",
       "      <td>66334</td>\n",
       "      <td>69</td>\n",
       "      <td>25.0</td>\n",
       "      <td>25</td>\n",
       "      <td>0.0</td>\n",
       "      <td>4</td>\n",
       "      <td>331.200000</td>\n",
       "    </tr>\n",
       "    <tr>\n",
       "      <th>4</th>\n",
       "      <td>5326.677654</td>\n",
       "      <td>76717</td>\n",
       "      <td>66</td>\n",
       "      <td>26.0</td>\n",
       "      <td>10</td>\n",
       "      <td>0.0</td>\n",
       "      <td>6</td>\n",
       "      <td>300.528579</td>\n",
       "    </tr>\n",
       "  </tbody>\n",
       "</table>\n",
       "</div>"
      ],
      "text/plain": [
       "   customer lifetime value  income  monthly premium auto  \\\n",
       "0             14947.917300   22139                   100   \n",
       "1             22332.439460   49078                    97   \n",
       "2              5154.764074   82730                   127   \n",
       "3              5454.587929   66334                    69   \n",
       "4              5326.677654   76717                    66   \n",
       "\n",
       "   months since last claim  months since policy inception  \\\n",
       "0                     34.0                             31   \n",
       "1                     10.0                              3   \n",
       "2                     13.0                             31   \n",
       "3                     25.0                             25   \n",
       "4                     26.0                             10   \n",
       "\n",
       "   number of open complaints  number of policies  total claim amount  \n",
       "0                        0.0                   2          480.000000  \n",
       "1                        0.0                   2          484.013411  \n",
       "2                        0.0                   1          442.521087  \n",
       "3                        0.0                   4          331.200000  \n",
       "4                        0.0                   6          300.528579  "
      ]
     },
     "execution_count": 401,
     "metadata": {},
     "output_type": "execute_result"
    }
   ],
   "source": [
    "numerical.head()"
   ]
  },
  {
   "cell_type": "code",
   "execution_count": 402,
   "id": "ecea5892",
   "metadata": {},
   "outputs": [],
   "source": [
    "# 1 - create x,y (take out the Y = total claim amount)\n",
    "\n",
    "X = numerical.drop(['total claim amount'],axis=1)\n",
    "Y = numerical['total claim amount']"
   ]
  },
  {
   "cell_type": "code",
   "execution_count": 403,
   "id": "410ee8cf",
   "metadata": {},
   "outputs": [],
   "source": [
    "# 2 - normalize"
   ]
  },
  {
   "cell_type": "code",
   "execution_count": 404,
   "id": "f7459a1e",
   "metadata": {},
   "outputs": [],
   "source": [
    "from scipy import stats "
   ]
  },
  {
   "cell_type": "code",
   "execution_count": 356,
   "id": "185d8d5d",
   "metadata": {},
   "outputs": [
    {
     "data": {
      "image/png": "[encoded data removed]",
      "text/plain": [
       "<Figure size 640x480 with 1 Axes>"
      ]
     },
     "metadata": {},
     "output_type": "display_data"
    }
   ],
   "source": [
    "sns.histplot(X['customer lifetime value'],bins=20)\n",
    "plt.show()"
   ]
  },
  {
   "cell_type": "code",
   "execution_count": null,
   "id": "36c83758",
   "metadata": {},
   "outputs": [],
   "source": []
  },
  {
   "cell_type": "code",
   "execution_count": 406,
   "id": "e3dac1b5",
   "metadata": {},
   "outputs": [
    {
     "data": {
      "text/plain": [
       "0"
      ]
     },
     "execution_count": 406,
     "metadata": {},
     "output_type": "execute_result"
    }
   ],
   "source": [
    "len(X[numerical['customer lifetime value'] <= 0])\n"
   ]
  },
  {
   "cell_type": "code",
   "execution_count": 407,
   "id": "9f6691e1",
   "metadata": {},
   "outputs": [
    {
     "data": {
      "text/plain": [
       "(array([2.81351637, 2.82750353, 2.76562263, ..., 2.82251301, 2.76669803,\n",
       "        2.80491582]),\n",
       " -0.3421740112166934)"
      ]
     },
     "execution_count": 407,
     "metadata": {},
     "output_type": "execute_result"
    }
   ],
   "source": [
    "stats.boxcox(X['customer lifetime value'])\n"
   ]
  },
  {
   "cell_type": "code",
   "execution_count": 408,
   "id": "531d45d4",
   "metadata": {},
   "outputs": [],
   "source": [
    "arr, lmbda = stats.boxcox(numerical['customer lifetime value']) \n"
   ]
  },
  {
   "cell_type": "code",
   "execution_count": 409,
   "id": "56dc46b7",
   "metadata": {},
   "outputs": [],
   "source": [
    "numerical['customer lifetime value'] = arr"
   ]
  },
  {
   "cell_type": "code",
   "execution_count": 410,
   "id": "1f10e95f",
   "metadata": {},
   "outputs": [
    {
     "data": {
      "image/png": "[encoded data removed]",
      "text/plain": [
       "<Figure size 640x480 with 1 Axes>"
      ]
     },
     "metadata": {},
     "output_type": "display_data"
    }
   ],
   "source": [
    "sns.histplot(numerical['customer lifetime value'])\n",
    "plt.show()"
   ]
  },
  {
   "cell_type": "code",
   "execution_count": 411,
   "id": "6528a4c5",
   "metadata": {},
   "outputs": [
    {
     "data": {
      "image/png": "[encoded data removed]",
      "text/plain": [
       "<Figure size 640x480 with 1 Axes>"
      ]
     },
     "metadata": {},
     "output_type": "display_data"
    }
   ],
   "source": [
    "sns.histplot(X['income'],bins=20)\n",
    "plt.show()"
   ]
  },
  {
   "cell_type": "code",
   "execution_count": 412,
   "id": "ba1b355d",
   "metadata": {},
   "outputs": [
    {
     "data": {
      "text/plain": [
       "1173"
      ]
     },
     "execution_count": 412,
     "metadata": {},
     "output_type": "execute_result"
    }
   ],
   "source": [
    "len(X[X['income'] <= 0])"
   ]
  },
  {
   "cell_type": "code",
   "execution_count": 413,
   "id": "d6bf886a",
   "metadata": {},
   "outputs": [],
   "source": [
    "X['income'] = np.where(X['income'] < 0, 0, X['income'])"
   ]
  },
  {
   "cell_type": "code",
   "execution_count": 414,
   "id": "c728ef7e",
   "metadata": {},
   "outputs": [],
   "source": [
    "X['income']=X['income'].replace(0,X['income'].mean()) "
   ]
  },
  {
   "cell_type": "code",
   "execution_count": 415,
   "id": "12d80782",
   "metadata": {},
   "outputs": [
    {
     "data": {
      "text/plain": [
       "(array([34.11937182, 41.18752354, 46.50779726, ..., 38.6538986 ,\n",
       "        43.35674244, 43.85053623]),\n",
       " 0.2097931006689937)"
      ]
     },
     "execution_count": 415,
     "metadata": {},
     "output_type": "execute_result"
    }
   ],
   "source": [
    "stats.boxcox(X['income']) "
   ]
  },
  {
   "cell_type": "code",
   "execution_count": 416,
   "id": "50be0098",
   "metadata": {},
   "outputs": [],
   "source": [
    "arr, lmbda = stats.boxcox(X['income']) "
   ]
  },
  {
   "cell_type": "code",
   "execution_count": 417,
   "id": "fb34ea2c",
   "metadata": {},
   "outputs": [],
   "source": [
    "numerical['income'] = arr"
   ]
  },
  {
   "cell_type": "code",
   "execution_count": 418,
   "id": "b245a151",
   "metadata": {},
   "outputs": [
    {
     "data": {
      "text/plain": [
       "<AxesSubplot:xlabel='income', ylabel='Count'>"
      ]
     },
     "execution_count": 418,
     "metadata": {},
     "output_type": "execute_result"
    },
    {
     "data": {
      "image/png": "[encoded data removed]",
      "text/plain": [
       "<Figure size 640x480 with 1 Axes>"
      ]
     },
     "metadata": {},
     "output_type": "display_data"
    }
   ],
   "source": [
    "sns.histplot(numerical['income'])"
   ]
  },
  {
   "cell_type": "code",
   "execution_count": 419,
   "id": "b0de1f6e",
   "metadata": {},
   "outputs": [
    {
     "data": {
      "image/png": "[encoded data removed]",
      "text/plain": [
       "<Figure size 640x480 with 1 Axes>"
      ]
     },
     "metadata": {},
     "output_type": "display_data"
    }
   ],
   "source": [
    "sns.histplot(X['monthly premium auto'],bins=20)\n",
    "plt.show()"
   ]
  },
  {
   "cell_type": "code",
   "execution_count": 420,
   "id": "85f9454e",
   "metadata": {},
   "outputs": [
    {
     "data": {
      "text/plain": [
       "0"
      ]
     },
     "execution_count": 420,
     "metadata": {},
     "output_type": "execute_result"
    }
   ],
   "source": [
    "len(X[X['monthly premium auto'] <= 0])"
   ]
  },
  {
   "cell_type": "code",
   "execution_count": 421,
   "id": "7a950fb4",
   "metadata": {},
   "outputs": [
    {
     "data": {
      "text/plain": [
       "(array([0.69784516, 0.69780238, 0.69812329, ..., 0.69841326, 0.69702679,\n",
       "        0.69830635]),\n",
       " -1.4310137894884554)"
      ]
     },
     "execution_count": 421,
     "metadata": {},
     "output_type": "execute_result"
    }
   ],
   "source": [
    "stats.boxcox(X['monthly premium auto'])\n"
   ]
  },
  {
   "cell_type": "code",
   "execution_count": 422,
   "id": "bcf88cba",
   "metadata": {},
   "outputs": [
    {
     "data": {
      "image/png": "[encoded data removed]",
      "text/plain": [
       "<Figure size 640x480 with 1 Axes>"
      ]
     },
     "metadata": {},
     "output_type": "display_data"
    }
   ],
   "source": [
    "arr, lmbda = stats.boxcox(X['monthly premium auto']) \n",
    "X['monthly premium auto'] = arr\n",
    "sns.histplot(X['monthly premium auto'])\n",
    "plt.show()"
   ]
  },
  {
   "cell_type": "code",
   "execution_count": 423,
   "id": "806a10b1",
   "metadata": {},
   "outputs": [
    {
     "data": {
      "image/png": "[encoded data removed]",
      "text/plain": [
       "<Figure size 640x480 with 1 Axes>"
      ]
     },
     "metadata": {},
     "output_type": "display_data"
    }
   ],
   "source": [
    "sns.histplot(X['months since last claim'],bins=20)\n",
    "plt.show()"
   ]
  },
  {
   "cell_type": "code",
   "execution_count": 424,
   "id": "8b6c74af",
   "metadata": {},
   "outputs": [
    {
     "data": {
      "text/plain": [
       "0       34.0\n",
       "1       10.0\n",
       "2       13.0\n",
       "3       25.0\n",
       "4       26.0\n",
       "        ... \n",
       "4538    10.0\n",
       "4539    30.0\n",
       "4540    14.0\n",
       "4541     7.0\n",
       "4542     0.0\n",
       "Name: months since last claim, Length: 4543, dtype: float64"
      ]
     },
     "execution_count": 424,
     "metadata": {},
     "output_type": "execute_result"
    }
   ],
   "source": [
    "X['months since last claim'].fillna(0)"
   ]
  },
  {
   "cell_type": "code",
   "execution_count": 425,
   "id": "6af8b2b6",
   "metadata": {},
   "outputs": [
    {
     "data": {
      "text/plain": [
       "146"
      ]
     },
     "execution_count": 425,
     "metadata": {},
     "output_type": "execute_result"
    }
   ],
   "source": [
    "len(X[X['months since last claim'] <= 0]) "
   ]
  },
  {
   "cell_type": "code",
   "execution_count": 426,
   "id": "6fa8b922",
   "metadata": {},
   "outputs": [],
   "source": [
    "X['months since last claim'] = np.where(X['months since last claim'] < 0, 0, X['months since last claim'])\n",
    "X['months since last claim']=X['months since last claim'].replace(0,X['months since last claim'].mean()) "
   ]
  },
  {
   "cell_type": "code",
   "execution_count": 427,
   "id": "7d59e90a",
   "metadata": {},
   "outputs": [
    {
     "data": {
      "text/plain": [
       "(array([10.98074479,  4.67235306,  5.68875169, ...,  6.00374425,\n",
       "         3.5082081 ,  6.34244855]),\n",
       " 0.5560927306844055)"
      ]
     },
     "execution_count": 427,
     "metadata": {},
     "output_type": "execute_result"
    }
   ],
   "source": [
    "stats.boxcox(X['months since last claim'])"
   ]
  },
  {
   "cell_type": "code",
   "execution_count": 428,
   "id": "178ac35e",
   "metadata": {},
   "outputs": [
    {
     "data": {
      "image/png": "[encoded data removed]",
      "text/plain": [
       "<Figure size 640x480 with 1 Axes>"
      ]
     },
     "metadata": {},
     "output_type": "display_data"
    }
   ],
   "source": [
    "X['months since last claim'] = arr\n",
    "sns.histplot(X['months since last claim'],bins=20)\n",
    "plt.show()"
   ]
  },
  {
   "cell_type": "code",
   "execution_count": 429,
   "id": "008f928c",
   "metadata": {},
   "outputs": [
    {
     "data": {
      "text/plain": [
       "44"
      ]
     },
     "execution_count": 429,
     "metadata": {},
     "output_type": "execute_result"
    }
   ],
   "source": [
    "len(X[X['months since policy inception'] <= 0])"
   ]
  },
  {
   "cell_type": "code",
   "execution_count": 430,
   "id": "ca51cc35",
   "metadata": {},
   "outputs": [],
   "source": [
    "X['months since policy inception'] = np.where(X['months since policy inception'] < 0, 0, X['months since policy inception'])\n",
    "X['months since policy inception']=X['months since policy inception'].replace(0,X['months since policy inception'].mean()) "
   ]
  },
  {
   "cell_type": "code",
   "execution_count": 431,
   "id": "fd88d7c6",
   "metadata": {},
   "outputs": [
    {
     "data": {
      "text/plain": [
       "(array([14.45600434,  1.65615568, 14.45600434, ..., 14.81405054,\n",
       "        26.1457376 , 12.98769717]),\n",
       " 0.7022860398226207)"
      ]
     },
     "execution_count": 431,
     "metadata": {},
     "output_type": "execute_result"
    }
   ],
   "source": [
    "stats.boxcox(X['months since policy inception'])"
   ]
  },
  {
   "cell_type": "code",
   "execution_count": 432,
   "id": "bab6e440",
   "metadata": {},
   "outputs": [
    {
     "data": {
      "image/png": "[encoded data removed]",
      "text/plain": [
       "<Figure size 640x480 with 1 Axes>"
      ]
     },
     "metadata": {},
     "output_type": "display_data"
    }
   ],
   "source": [
    "X['months since policy inception'] = arr\n",
    "sns.histplot(X['months since policy inception'],bins=20)\n",
    "plt.show()"
   ]
  },
  {
   "cell_type": "code",
   "execution_count": null,
   "id": "11a07177",
   "metadata": {},
   "outputs": [],
   "source": []
  },
  {
   "cell_type": "code",
   "execution_count": 433,
   "id": "095fe98f",
   "metadata": {},
   "outputs": [],
   "source": [
    "from sklearn.preprocessing import LabelEncoder "
   ]
  },
  {
   "cell_type": "code",
   "execution_count": 434,
   "id": "32c18c73",
   "metadata": {},
   "outputs": [
    {
     "data": {
      "text/plain": [
       "array([0, 0, 0, ..., 0, 0, 4])"
      ]
     },
     "execution_count": 434,
     "metadata": {},
     "output_type": "execute_result"
    }
   ],
   "source": [
    "LabelEncoder().fit(X['number of open complaints']).transform(X['number of open complaints'])"
   ]
  },
  {
   "cell_type": "code",
   "execution_count": 435,
   "id": "e1bb9013",
   "metadata": {},
   "outputs": [
    {
     "data": {
      "text/plain": [
       "array([1, 1, 0, ..., 1, 5, 5])"
      ]
     },
     "execution_count": 435,
     "metadata": {},
     "output_type": "execute_result"
    }
   ],
   "source": [
    "LabelEncoder().fit(X['number of policies']).transform(X['number of policies'])"
   ]
  },
  {
   "cell_type": "code",
   "execution_count": 436,
   "id": "2c55241a",
   "metadata": {},
   "outputs": [
    {
     "data": {
      "text/plain": [
       "0       2\n",
       "1       2\n",
       "2       1\n",
       "3       4\n",
       "4       6\n",
       "       ..\n",
       "4538    1\n",
       "4539    1\n",
       "4540    2\n",
       "4541    6\n",
       "4542    6\n",
       "Name: number of policies, Length: 4543, dtype: int64"
      ]
     },
     "execution_count": 436,
     "metadata": {},
     "output_type": "execute_result"
    }
   ],
   "source": [
    "X['number of policies']"
   ]
  },
  {
   "cell_type": "code",
   "execution_count": 437,
   "id": "2186bf7d",
   "metadata": {},
   "outputs": [],
   "source": [
    "X.to_csv('final_data.csv')"
   ]
  },
  {
   "cell_type": "code",
   "execution_count": 438,
   "id": "0092bb91",
   "metadata": {},
   "outputs": [],
   "source": [
    "Y.to_csv('final_Y.csv')"
   ]
  },
  {
   "cell_type": "code",
   "execution_count": 439,
   "id": "2e33c7c4",
   "metadata": {},
   "outputs": [
    {
     "data": {
      "text/html": [
       "<div>\n",
       "<style scoped>\n",
       "    .dataframe tbody tr th:only-of-type {\n",
       "        vertical-align: middle;\n",
       "    }\n",
       "\n",
       "    .dataframe tbody tr th {\n",
       "        vertical-align: top;\n",
       "    }\n",
       "\n",
       "    .dataframe thead th {\n",
       "        text-align: right;\n",
       "    }\n",
       "</style>\n",
       "<table border=\"1\" class=\"dataframe\">\n",
       "  <thead>\n",
       "    <tr style=\"text-align: right;\">\n",
       "      <th></th>\n",
       "      <th>customer lifetime value</th>\n",
       "      <th>income</th>\n",
       "      <th>monthly premium auto</th>\n",
       "      <th>months since last claim</th>\n",
       "      <th>months since policy inception</th>\n",
       "      <th>number of open complaints</th>\n",
       "      <th>number of policies</th>\n",
       "    </tr>\n",
       "  </thead>\n",
       "  <tbody>\n",
       "    <tr>\n",
       "      <th>0</th>\n",
       "      <td>14947.917300</td>\n",
       "      <td>22139.000000</td>\n",
       "      <td>0.697845</td>\n",
       "      <td>0.697845</td>\n",
       "      <td>0.697845</td>\n",
       "      <td>0.0</td>\n",
       "      <td>2</td>\n",
       "    </tr>\n",
       "    <tr>\n",
       "      <th>1</th>\n",
       "      <td>22332.439460</td>\n",
       "      <td>49078.000000</td>\n",
       "      <td>0.697802</td>\n",
       "      <td>0.697802</td>\n",
       "      <td>0.697802</td>\n",
       "      <td>0.0</td>\n",
       "      <td>2</td>\n",
       "    </tr>\n",
       "    <tr>\n",
       "      <th>2</th>\n",
       "      <td>5154.764074</td>\n",
       "      <td>82730.000000</td>\n",
       "      <td>0.698123</td>\n",
       "      <td>0.698123</td>\n",
       "      <td>0.698123</td>\n",
       "      <td>0.0</td>\n",
       "      <td>1</td>\n",
       "    </tr>\n",
       "    <tr>\n",
       "      <th>3</th>\n",
       "      <td>5454.587929</td>\n",
       "      <td>66334.000000</td>\n",
       "      <td>0.697172</td>\n",
       "      <td>0.697172</td>\n",
       "      <td>0.697172</td>\n",
       "      <td>0.0</td>\n",
       "      <td>4</td>\n",
       "    </tr>\n",
       "    <tr>\n",
       "      <th>4</th>\n",
       "      <td>5326.677654</td>\n",
       "      <td>76717.000000</td>\n",
       "      <td>0.697065</td>\n",
       "      <td>0.697065</td>\n",
       "      <td>0.697065</td>\n",
       "      <td>0.0</td>\n",
       "      <td>6</td>\n",
       "    </tr>\n",
       "    <tr>\n",
       "      <th>...</th>\n",
       "      <td>...</td>\n",
       "      <td>...</td>\n",
       "      <td>...</td>\n",
       "      <td>...</td>\n",
       "      <td>...</td>\n",
       "      <td>...</td>\n",
       "      <td>...</td>\n",
       "    </tr>\n",
       "    <tr>\n",
       "      <th>4538</th>\n",
       "      <td>3579.023825</td>\n",
       "      <td>28304.000000</td>\n",
       "      <td>0.697706</td>\n",
       "      <td>0.697706</td>\n",
       "      <td>0.697706</td>\n",
       "      <td>2.0</td>\n",
       "      <td>1</td>\n",
       "    </tr>\n",
       "    <tr>\n",
       "      <th>4539</th>\n",
       "      <td>2771.663013</td>\n",
       "      <td>59855.000000</td>\n",
       "      <td>0.697328</td>\n",
       "      <td>0.697328</td>\n",
       "      <td>0.697328</td>\n",
       "      <td>4.0</td>\n",
       "      <td>1</td>\n",
       "    </tr>\n",
       "    <tr>\n",
       "      <th>4540</th>\n",
       "      <td>19228.463620</td>\n",
       "      <td>37453.033238</td>\n",
       "      <td>0.698413</td>\n",
       "      <td>0.698413</td>\n",
       "      <td>0.698413</td>\n",
       "      <td>0.0</td>\n",
       "      <td>2</td>\n",
       "    </tr>\n",
       "    <tr>\n",
       "      <th>4541</th>\n",
       "      <td>5259.444853</td>\n",
       "      <td>61146.000000</td>\n",
       "      <td>0.697027</td>\n",
       "      <td>0.697027</td>\n",
       "      <td>0.697027</td>\n",
       "      <td>0.0</td>\n",
       "      <td>6</td>\n",
       "    </tr>\n",
       "    <tr>\n",
       "      <th>4542</th>\n",
       "      <td>11971.977650</td>\n",
       "      <td>64195.000000</td>\n",
       "      <td>0.698306</td>\n",
       "      <td>0.698306</td>\n",
       "      <td>0.698306</td>\n",
       "      <td>4.0</td>\n",
       "      <td>6</td>\n",
       "    </tr>\n",
       "  </tbody>\n",
       "</table>\n",
       "<p>4543 rows × 7 columns</p>\n",
       "</div>"
      ],
      "text/plain": [
       "      customer lifetime value        income  monthly premium auto  \\\n",
       "0                14947.917300  22139.000000              0.697845   \n",
       "1                22332.439460  49078.000000              0.697802   \n",
       "2                 5154.764074  82730.000000              0.698123   \n",
       "3                 5454.587929  66334.000000              0.697172   \n",
       "4                 5326.677654  76717.000000              0.697065   \n",
       "...                       ...           ...                   ...   \n",
       "4538              3579.023825  28304.000000              0.697706   \n",
       "4539              2771.663013  59855.000000              0.697328   \n",
       "4540             19228.463620  37453.033238              0.698413   \n",
       "4541              5259.444853  61146.000000              0.697027   \n",
       "4542             11971.977650  64195.000000              0.698306   \n",
       "\n",
       "      months since last claim  months since policy inception  \\\n",
       "0                    0.697845                       0.697845   \n",
       "1                    0.697802                       0.697802   \n",
       "2                    0.698123                       0.698123   \n",
       "3                    0.697172                       0.697172   \n",
       "4                    0.697065                       0.697065   \n",
       "...                       ...                            ...   \n",
       "4538                 0.697706                       0.697706   \n",
       "4539                 0.697328                       0.697328   \n",
       "4540                 0.698413                       0.698413   \n",
       "4541                 0.697027                       0.697027   \n",
       "4542                 0.698306                       0.698306   \n",
       "\n",
       "      number of open complaints  number of policies  \n",
       "0                           0.0                   2  \n",
       "1                           0.0                   2  \n",
       "2                           0.0                   1  \n",
       "3                           0.0                   4  \n",
       "4                           0.0                   6  \n",
       "...                         ...                 ...  \n",
       "4538                        2.0                   1  \n",
       "4539                        4.0                   1  \n",
       "4540                        0.0                   2  \n",
       "4541                        0.0                   6  \n",
       "4542                        4.0                   6  \n",
       "\n",
       "[4543 rows x 7 columns]"
      ]
     },
     "execution_count": 439,
     "metadata": {},
     "output_type": "execute_result"
    }
   ],
   "source": [
    "X"
   ]
  },
  {
   "cell_type": "code",
   "execution_count": 440,
   "id": "bcc22196",
   "metadata": {},
   "outputs": [
    {
     "data": {
      "text/plain": [
       "0       480.000000\n",
       "1       484.013411\n",
       "2       442.521087\n",
       "3       331.200000\n",
       "4       300.528579\n",
       "           ...    \n",
       "4538    655.200000\n",
       "4539    355.200000\n",
       "4540    897.600000\n",
       "4541    273.018929\n",
       "4542    618.288849\n",
       "Name: total claim amount, Length: 4543, dtype: float64"
      ]
     },
     "execution_count": 440,
     "metadata": {},
     "output_type": "execute_result"
    }
   ],
   "source": [
    "Y"
   ]
  },
  {
   "cell_type": "code",
   "execution_count": null,
   "id": "cddd581e",
   "metadata": {},
   "outputs": [],
   "source": []
  },
  {
   "cell_type": "code",
   "execution_count": null,
   "id": "3dbec769",
   "metadata": {},
   "outputs": [],
   "source": []
  },
  {
   "cell_type": "code",
   "execution_count": null,
   "id": "9d6b2fef",
   "metadata": {},
   "outputs": [],
   "source": []
  },
  {
   "cell_type": "code",
   "execution_count": null,
   "id": "4b429cd9",
   "metadata": {},
   "outputs": [],
   "source": []
  },
  {
   "cell_type": "code",
   "execution_count": null,
   "id": "b40e5f82",
   "metadata": {},
   "outputs": [],
   "source": []
  },
  {
   "cell_type": "code",
   "execution_count": null,
   "id": "55e846f8",
   "metadata": {},
   "outputs": [],
   "source": []
  },
  {
   "cell_type": "code",
   "execution_count": null,
   "id": "be314a9e",
   "metadata": {},
   "outputs": [],
   "source": []
  },
  {
   "cell_type": "code",
   "execution_count": null,
   "id": "a3743050",
   "metadata": {},
   "outputs": [],
   "source": []
  }
 ],
 "metadata": {
  "kernelspec": {
   "display_name": "Python 3 (ipykernel)",
   "language": "python",
   "name": "python3"
  },
  "language_info": {
   "codemirror_mode": {
    "name": "ipython",
    "version": 3
   },
   "file_extension": ".py",
   "mimetype": "text/x-python",
   "name": "python",
   "nbconvert_exporter": "python",
   "pygments_lexer": "ipython3",
   "version": "3.9.13"
  }
 },
 "nbformat": 4,
 "nbformat_minor": 5
}
