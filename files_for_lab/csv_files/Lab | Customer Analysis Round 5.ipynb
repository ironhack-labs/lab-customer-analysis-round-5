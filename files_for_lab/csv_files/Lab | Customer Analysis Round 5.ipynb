{
 "cells": [
  {
   "cell_type": "markdown",
   "id": "bb8c78d5",
   "metadata": {},
   "source": [
    "# Lab | Customer Analysis Round 5"
   ]
  },
  {
   "cell_type": "code",
   "execution_count": 1,
   "id": "51cc5962",
   "metadata": {},
   "outputs": [],
   "source": [
    "import pandas as pd\n",
    "import numpy as np\n",
    "import seaborn as sns\n",
    "import matplotlib.pyplot as plt\n",
    "from sklearn.preprocessing import StandardScaler"
   ]
  },
  {
   "cell_type": "code",
   "execution_count": 2,
   "id": "847cd1ff",
   "metadata": {},
   "outputs": [
    {
     "data": {
      "text/html": [
       "<div>\n",
       "<style scoped>\n",
       "    .dataframe tbody tr th:only-of-type {\n",
       "        vertical-align: middle;\n",
       "    }\n",
       "\n",
       "    .dataframe tbody tr th {\n",
       "        vertical-align: top;\n",
       "    }\n",
       "\n",
       "    .dataframe thead th {\n",
       "        text-align: right;\n",
       "    }\n",
       "</style>\n",
       "<table border=\"1\" class=\"dataframe\">\n",
       "  <thead>\n",
       "    <tr style=\"text-align: right;\">\n",
       "      <th></th>\n",
       "      <th>CUSTOMER LIFETIME VALUE</th>\n",
       "      <th>INCOME</th>\n",
       "      <th>MONTHLY PREMIUM AUTO</th>\n",
       "      <th>MONTHS SINCE LAST CLAIM</th>\n",
       "      <th>MONTHS SINCE POLICY INCEPTION</th>\n",
       "      <th>NUMBER OF OPEN COMPLAINTS</th>\n",
       "      <th>NUMBER OF POLICIES</th>\n",
       "      <th>TOTAL CLAIM AMOUNT</th>\n",
       "      <th>MONTH</th>\n",
       "    </tr>\n",
       "  </thead>\n",
       "  <tbody>\n",
       "    <tr>\n",
       "      <th>0</th>\n",
       "      <td>4809.216960</td>\n",
       "      <td>48029</td>\n",
       "      <td>61</td>\n",
       "      <td>7.0</td>\n",
       "      <td>52</td>\n",
       "      <td>0.0</td>\n",
       "      <td>9</td>\n",
       "      <td>292.800000</td>\n",
       "      <td>2</td>\n",
       "    </tr>\n",
       "    <tr>\n",
       "      <th>1</th>\n",
       "      <td>2228.525238</td>\n",
       "      <td>0</td>\n",
       "      <td>64</td>\n",
       "      <td>3.0</td>\n",
       "      <td>26</td>\n",
       "      <td>0.0</td>\n",
       "      <td>1</td>\n",
       "      <td>744.924331</td>\n",
       "      <td>1</td>\n",
       "    </tr>\n",
       "    <tr>\n",
       "      <th>2</th>\n",
       "      <td>14947.917300</td>\n",
       "      <td>22139</td>\n",
       "      <td>100</td>\n",
       "      <td>34.0</td>\n",
       "      <td>31</td>\n",
       "      <td>0.0</td>\n",
       "      <td>2</td>\n",
       "      <td>480.000000</td>\n",
       "      <td>2</td>\n",
       "    </tr>\n",
       "    <tr>\n",
       "      <th>3</th>\n",
       "      <td>22332.439460</td>\n",
       "      <td>49078</td>\n",
       "      <td>97</td>\n",
       "      <td>10.0</td>\n",
       "      <td>3</td>\n",
       "      <td>0.0</td>\n",
       "      <td>2</td>\n",
       "      <td>484.013411</td>\n",
       "      <td>1</td>\n",
       "    </tr>\n",
       "    <tr>\n",
       "      <th>4</th>\n",
       "      <td>5035.035257</td>\n",
       "      <td>37405</td>\n",
       "      <td>63</td>\n",
       "      <td>8.0</td>\n",
       "      <td>99</td>\n",
       "      <td>3.0</td>\n",
       "      <td>4</td>\n",
       "      <td>287.556107</td>\n",
       "      <td>2</td>\n",
       "    </tr>\n",
       "    <tr>\n",
       "      <th>...</th>\n",
       "      <td>...</td>\n",
       "      <td>...</td>\n",
       "      <td>...</td>\n",
       "      <td>...</td>\n",
       "      <td>...</td>\n",
       "      <td>...</td>\n",
       "      <td>...</td>\n",
       "      <td>...</td>\n",
       "      <td>...</td>\n",
       "    </tr>\n",
       "    <tr>\n",
       "      <th>9129</th>\n",
       "      <td>2771.663013</td>\n",
       "      <td>59855</td>\n",
       "      <td>74</td>\n",
       "      <td>30.0</td>\n",
       "      <td>82</td>\n",
       "      <td>4.0</td>\n",
       "      <td>1</td>\n",
       "      <td>355.200000</td>\n",
       "      <td>1</td>\n",
       "    </tr>\n",
       "    <tr>\n",
       "      <th>9130</th>\n",
       "      <td>19228.463620</td>\n",
       "      <td>0</td>\n",
       "      <td>187</td>\n",
       "      <td>14.0</td>\n",
       "      <td>32</td>\n",
       "      <td>0.0</td>\n",
       "      <td>2</td>\n",
       "      <td>897.600000</td>\n",
       "      <td>2</td>\n",
       "    </tr>\n",
       "    <tr>\n",
       "      <th>9131</th>\n",
       "      <td>5259.444853</td>\n",
       "      <td>61146</td>\n",
       "      <td>65</td>\n",
       "      <td>7.0</td>\n",
       "      <td>68</td>\n",
       "      <td>0.0</td>\n",
       "      <td>6</td>\n",
       "      <td>273.018929</td>\n",
       "      <td>1</td>\n",
       "    </tr>\n",
       "    <tr>\n",
       "      <th>9132</th>\n",
       "      <td>23893.304100</td>\n",
       "      <td>39837</td>\n",
       "      <td>201</td>\n",
       "      <td>11.0</td>\n",
       "      <td>63</td>\n",
       "      <td>0.0</td>\n",
       "      <td>2</td>\n",
       "      <td>381.306996</td>\n",
       "      <td>2</td>\n",
       "    </tr>\n",
       "    <tr>\n",
       "      <th>9133</th>\n",
       "      <td>11971.977650</td>\n",
       "      <td>64195</td>\n",
       "      <td>158</td>\n",
       "      <td>0.0</td>\n",
       "      <td>27</td>\n",
       "      <td>4.0</td>\n",
       "      <td>6</td>\n",
       "      <td>618.288849</td>\n",
       "      <td>2</td>\n",
       "    </tr>\n",
       "  </tbody>\n",
       "</table>\n",
       "<p>9134 rows × 9 columns</p>\n",
       "</div>"
      ],
      "text/plain": [
       "      CUSTOMER LIFETIME VALUE  INCOME  MONTHLY PREMIUM AUTO  \\\n",
       "0                 4809.216960   48029                    61   \n",
       "1                 2228.525238       0                    64   \n",
       "2                14947.917300   22139                   100   \n",
       "3                22332.439460   49078                    97   \n",
       "4                 5035.035257   37405                    63   \n",
       "...                       ...     ...                   ...   \n",
       "9129              2771.663013   59855                    74   \n",
       "9130             19228.463620       0                   187   \n",
       "9131              5259.444853   61146                    65   \n",
       "9132             23893.304100   39837                   201   \n",
       "9133             11971.977650   64195                   158   \n",
       "\n",
       "      MONTHS SINCE LAST CLAIM  MONTHS SINCE POLICY INCEPTION  \\\n",
       "0                         7.0                             52   \n",
       "1                         3.0                             26   \n",
       "2                        34.0                             31   \n",
       "3                        10.0                              3   \n",
       "4                         8.0                             99   \n",
       "...                       ...                            ...   \n",
       "9129                     30.0                             82   \n",
       "9130                     14.0                             32   \n",
       "9131                      7.0                             68   \n",
       "9132                     11.0                             63   \n",
       "9133                      0.0                             27   \n",
       "\n",
       "      NUMBER OF OPEN COMPLAINTS  NUMBER OF POLICIES  TOTAL CLAIM AMOUNT  MONTH  \n",
       "0                           0.0                   9          292.800000      2  \n",
       "1                           0.0                   1          744.924331      1  \n",
       "2                           0.0                   2          480.000000      2  \n",
       "3                           0.0                   2          484.013411      1  \n",
       "4                           3.0                   4          287.556107      2  \n",
       "...                         ...                 ...                 ...    ...  \n",
       "9129                        4.0                   1          355.200000      1  \n",
       "9130                        0.0                   2          897.600000      2  \n",
       "9131                        0.0                   6          273.018929      1  \n",
       "9132                        0.0                   2          381.306996      2  \n",
       "9133                        4.0                   6          618.288849      2  \n",
       "\n",
       "[9134 rows x 9 columns]"
      ]
     },
     "execution_count": 2,
     "metadata": {},
     "output_type": "execute_result"
    }
   ],
   "source": [
    "numerical = pd.read_csv('merged_clean_ver3_numerical.csv')\n",
    "numerical.drop(['Unnamed: 0'],axis=1,inplace=True)\n",
    "numerical"
   ]
  },
  {
   "cell_type": "code",
   "execution_count": 3,
   "id": "cc6e9c65",
   "metadata": {},
   "outputs": [
    {
     "data": {
      "image/png": "[encoded data removed]",
      "text/plain": [
       "<Figure size 2500x1200 with 6 Axes>"
      ]
     },
     "metadata": {},
     "output_type": "display_data"
    }
   ],
   "source": [
    "# Create a figure and set of axes\n",
    "fig, axs = plt.subplots(2, 3, figsize=(25, 12))\n",
    "\n",
    "# Loop through each of your columns\n",
    "for i, col in enumerate(numerical[['CUSTOMER LIFETIME VALUE','INCOME','MONTHLY PREMIUM AUTO','MONTHS SINCE LAST CLAIM','MONTHS SINCE POLICY INCEPTION','TOTAL CLAIM AMOUNT']]):\n",
    "    \n",
    "    # Select the appropriate axes\n",
    "    ax = axs[i//3, i%3]\n",
    "    \n",
    "    # Plot a histogram\n",
    "    ax.hist(numerical[col], bins=20)\n",
    "    \n",
    "    # Add a title\n",
    "    ax.set_title(col)\n",
    "\n",
    "# Show the plot\n",
    "plt.show()"
   ]
  },
  {
   "cell_type": "markdown",
   "id": "5e215dd5",
   "metadata": {},
   "source": [
    "1- x,y\n",
    "\n",
    "2- normalise x\n",
    "\n",
    "3- x train x test"
   ]
  },
  {
   "cell_type": "markdown",
   "id": "674b8e3d",
   "metadata": {},
   "source": [
    "### X-y "
   ]
  },
  {
   "cell_type": "code",
   "execution_count": 4,
   "id": "22e3329f",
   "metadata": {},
   "outputs": [
    {
     "data": {
      "text/plain": [
       "0       292.800000\n",
       "1       744.924331\n",
       "2       480.000000\n",
       "3       484.013411\n",
       "4       287.556107\n",
       "           ...    \n",
       "9129    355.200000\n",
       "9130    897.600000\n",
       "9131    273.018929\n",
       "9132    381.306996\n",
       "9133    618.288849\n",
       "Name: TOTAL CLAIM AMOUNT, Length: 9134, dtype: float64"
      ]
     },
     "execution_count": 4,
     "metadata": {},
     "output_type": "execute_result"
    }
   ],
   "source": [
    "X=numerical.drop([\"TOTAL CLAIM AMOUNT\"],axis=1)\n",
    "Y=numerical[\"TOTAL CLAIM AMOUNT\"]\n",
    "Y"
   ]
  },
  {
   "cell_type": "markdown",
   "id": "6249c059",
   "metadata": {},
   "source": [
    "# CUSTOMER LIFETIME VALUE"
   ]
  },
  {
   "cell_type": "markdown",
   "id": "9a2a8479",
   "metadata": {},
   "source": [
    "### Label Encoder"
   ]
  },
  {
   "cell_type": "code",
   "execution_count": 5,
   "id": "f373c94e",
   "metadata": {},
   "outputs": [
    {
     "data": {
      "text/html": [
       "<div>\n",
       "<style scoped>\n",
       "    .dataframe tbody tr th:only-of-type {\n",
       "        vertical-align: middle;\n",
       "    }\n",
       "\n",
       "    .dataframe tbody tr th {\n",
       "        vertical-align: top;\n",
       "    }\n",
       "\n",
       "    .dataframe thead th {\n",
       "        text-align: right;\n",
       "    }\n",
       "</style>\n",
       "<table border=\"1\" class=\"dataframe\">\n",
       "  <thead>\n",
       "    <tr style=\"text-align: right;\">\n",
       "      <th></th>\n",
       "      <th>CUSTOMER LIFETIME VALUE</th>\n",
       "      <th>INCOME</th>\n",
       "      <th>MONTHLY PREMIUM AUTO</th>\n",
       "      <th>MONTHS SINCE LAST CLAIM</th>\n",
       "      <th>MONTHS SINCE POLICY INCEPTION</th>\n",
       "      <th>NUMBER OF OPEN COMPLAINTS</th>\n",
       "      <th>NUMBER OF POLICIES</th>\n",
       "      <th>MONTH</th>\n",
       "      <th>CUSTOMER LIFETIME VALUE_TEMP</th>\n",
       "    </tr>\n",
       "  </thead>\n",
       "  <tbody>\n",
       "    <tr>\n",
       "      <th>0</th>\n",
       "      <td>4809.216960</td>\n",
       "      <td>48029</td>\n",
       "      <td>61</td>\n",
       "      <td>7.0</td>\n",
       "      <td>52</td>\n",
       "      <td>0.0</td>\n",
       "      <td>9</td>\n",
       "      <td>2</td>\n",
       "      <td>2755</td>\n",
       "    </tr>\n",
       "    <tr>\n",
       "      <th>1</th>\n",
       "      <td>2228.525238</td>\n",
       "      <td>0</td>\n",
       "      <td>64</td>\n",
       "      <td>3.0</td>\n",
       "      <td>26</td>\n",
       "      <td>0.0</td>\n",
       "      <td>1</td>\n",
       "      <td>1</td>\n",
       "      <td>78</td>\n",
       "    </tr>\n",
       "    <tr>\n",
       "      <th>2</th>\n",
       "      <td>14947.917300</td>\n",
       "      <td>22139</td>\n",
       "      <td>100</td>\n",
       "      <td>34.0</td>\n",
       "      <td>31</td>\n",
       "      <td>0.0</td>\n",
       "      <td>2</td>\n",
       "      <td>2</td>\n",
       "      <td>7171</td>\n",
       "    </tr>\n",
       "    <tr>\n",
       "      <th>3</th>\n",
       "      <td>22332.439460</td>\n",
       "      <td>49078</td>\n",
       "      <td>97</td>\n",
       "      <td>10.0</td>\n",
       "      <td>3</td>\n",
       "      <td>0.0</td>\n",
       "      <td>2</td>\n",
       "      <td>1</td>\n",
       "      <td>7660</td>\n",
       "    </tr>\n",
       "    <tr>\n",
       "      <th>4</th>\n",
       "      <td>5035.035257</td>\n",
       "      <td>37405</td>\n",
       "      <td>63</td>\n",
       "      <td>8.0</td>\n",
       "      <td>99</td>\n",
       "      <td>3.0</td>\n",
       "      <td>4</td>\n",
       "      <td>2</td>\n",
       "      <td>3078</td>\n",
       "    </tr>\n",
       "  </tbody>\n",
       "</table>\n",
       "</div>"
      ],
      "text/plain": [
       "   CUSTOMER LIFETIME VALUE  INCOME  MONTHLY PREMIUM AUTO  \\\n",
       "0              4809.216960   48029                    61   \n",
       "1              2228.525238       0                    64   \n",
       "2             14947.917300   22139                   100   \n",
       "3             22332.439460   49078                    97   \n",
       "4              5035.035257   37405                    63   \n",
       "\n",
       "   MONTHS SINCE LAST CLAIM  MONTHS SINCE POLICY INCEPTION  \\\n",
       "0                      7.0                             52   \n",
       "1                      3.0                             26   \n",
       "2                     34.0                             31   \n",
       "3                     10.0                              3   \n",
       "4                      8.0                             99   \n",
       "\n",
       "   NUMBER OF OPEN COMPLAINTS  NUMBER OF POLICIES  MONTH  \\\n",
       "0                        0.0                   9      2   \n",
       "1                        0.0                   1      1   \n",
       "2                        0.0                   2      2   \n",
       "3                        0.0                   2      1   \n",
       "4                        3.0                   4      2   \n",
       "\n",
       "   CUSTOMER LIFETIME VALUE_TEMP  \n",
       "0                          2755  \n",
       "1                            78  \n",
       "2                          7171  \n",
       "3                          7660  \n",
       "4                          3078  "
      ]
     },
     "execution_count": 5,
     "metadata": {},
     "output_type": "execute_result"
    }
   ],
   "source": [
    "from sklearn.preprocessing import LabelEncoder\n",
    "\n",
    "X['CUSTOMER LIFETIME VALUE_TEMP'] = LabelEncoder().fit(X['CUSTOMER LIFETIME VALUE']).transform(X['CUSTOMER LIFETIME VALUE'])\n",
    "X.head()"
   ]
  },
  {
   "cell_type": "code",
   "execution_count": 6,
   "id": "388f2b86",
   "metadata": {},
   "outputs": [
    {
     "data": {
      "image/png": "[encoded data removed]",
      "text/plain": [
       "<Figure size 640x480 with 1 Axes>"
      ]
     },
     "metadata": {},
     "output_type": "display_data"
    }
   ],
   "source": [
    "sns.histplot(X['CUSTOMER LIFETIME VALUE_TEMP'])\n",
    "plt.show()"
   ]
  },
  {
   "cell_type": "markdown",
   "id": "6999e0cd",
   "metadata": {},
   "source": [
    "### .boxcox"
   ]
  },
  {
   "cell_type": "code",
   "execution_count": 7,
   "id": "c513b222",
   "metadata": {},
   "outputs": [
    {
     "ename": "NameError",
     "evalue": "name 'stats' is not defined",
     "output_type": "error",
     "traceback": [
      "\u001b[0;31m---------------------------------------------------------------------------\u001b[0m",
      "\u001b[0;31mNameError\u001b[0m                                 Traceback (most recent call last)",
      "\u001b[0;32m/var/folders/0m/d3zbckcj1zd772z7m1w0_xgc0000gn/T/ipykernel_13694/3298266997.py\u001b[0m in \u001b[0;36m<module>\u001b[0;34m\u001b[0m\n\u001b[0;32m----> 1\u001b[0;31m \u001b[0marr\u001b[0m\u001b[0;34m,\u001b[0m \u001b[0mlmbda\u001b[0m \u001b[0;34m=\u001b[0m \u001b[0mstats\u001b[0m\u001b[0;34m.\u001b[0m\u001b[0mboxcox\u001b[0m\u001b[0;34m(\u001b[0m\u001b[0mX\u001b[0m\u001b[0;34m[\u001b[0m\u001b[0;34m'CUSTOMER LIFETIME VALUE'\u001b[0m\u001b[0;34m]\u001b[0m\u001b[0;34m)\u001b[0m\u001b[0;34m\u001b[0m\u001b[0;34m\u001b[0m\u001b[0m\n\u001b[0m\u001b[1;32m      2\u001b[0m \u001b[0msns\u001b[0m\u001b[0;34m.\u001b[0m\u001b[0mhistplot\u001b[0m\u001b[0;34m(\u001b[0m\u001b[0marr\u001b[0m\u001b[0;34m)\u001b[0m\u001b[0;34m\u001b[0m\u001b[0;34m\u001b[0m\u001b[0m\n\u001b[1;32m      3\u001b[0m \u001b[0mplt\u001b[0m\u001b[0;34m.\u001b[0m\u001b[0mshow\u001b[0m\u001b[0;34m(\u001b[0m\u001b[0;34m)\u001b[0m\u001b[0;34m\u001b[0m\u001b[0;34m\u001b[0m\u001b[0m\n",
      "\u001b[0;31mNameError\u001b[0m: name 'stats' is not defined"
     ]
    }
   ],
   "source": [
    "arr, lmbda = stats.boxcox(X['CUSTOMER LIFETIME VALUE'])\n",
    "sns.histplot(arr)\n",
    "plt.show()"
   ]
  },
  {
   "cell_type": "markdown",
   "id": "55520ef2",
   "metadata": {},
   "source": [
    "# INCOME"
   ]
  },
  {
   "cell_type": "markdown",
   "id": "9c3f735e",
   "metadata": {},
   "source": [
    "### .boxcox"
   ]
  },
  {
   "cell_type": "code",
   "execution_count": null,
   "id": "e7911d0f",
   "metadata": {},
   "outputs": [],
   "source": [
    "X[\"INCOME_TEMP\"]=np.where(X[\"INCOME\"]<0,0,X[\"INCOME\"])\n",
    "X[\"INCOME_TEMP\"]=X[\"INCOME_TEMP\"].replace(0,X[\"INCOME\"].mean())\n",
    "\n",
    "arr, lmbda=stats.boxcox(X[\"INCOME_TEMP\"])\n",
    "sns.histplot(arr)\n",
    "plt.show()"
   ]
  },
  {
   "cell_type": "markdown",
   "id": "5e8c922a",
   "metadata": {},
   "source": [
    "# MONTHLY PREMIUM AUTO"
   ]
  },
  {
   "cell_type": "code",
   "execution_count": null,
   "id": "67581e78",
   "metadata": {},
   "outputs": [],
   "source": [
    "arr, lmbda=stats.boxcox(X[\"MONTHLY PREMIUM AUTO\"])\n",
    "sns.histplot(arr)\n",
    "plt.show()"
   ]
  },
  {
   "cell_type": "markdown",
   "id": "6bf6c8a1",
   "metadata": {},
   "source": [
    "# MONTHS SINCE LAST CLAIM"
   ]
  },
  {
   "cell_type": "code",
   "execution_count": null,
   "id": "f1e81c85",
   "metadata": {},
   "outputs": [],
   "source": [
    "X[\"MONTHS SINCE LAST CLAIM_TEMP\"]=np.where(X[\"MONTHS SINCE LAST CLAIM\"]<0,0,X[\"MONTHS SINCE LAST CLAIM\"])\n",
    "X[\"MONTHS SINCE LAST CLAIM_TEMP\"]=X[\"MONTHS SINCE LAST CLAIM_TEMP\"].replace(0,X[\"MONTHS SINCE LAST CLAIM\"].mean())\n",
    "\n",
    "arr, lmbda=stats.boxcox(X[\"MONTHS SINCE LAST CLAIM_TEMP\"])\n",
    "sns.histplot(arr)\n",
    "plt.show()"
   ]
  },
  {
   "cell_type": "markdown",
   "id": "7a15c884",
   "metadata": {},
   "source": [
    "# MONTHS SINCE POLICY INCEPTION"
   ]
  },
  {
   "cell_type": "code",
   "execution_count": null,
   "id": "614a5549",
   "metadata": {},
   "outputs": [],
   "source": [
    "X[\"MONTHS SINCE POLICY INCEPTION_TEMP\"]=np.where(X[\"MONTHS SINCE POLICY INCEPTION\"]<0,0,X[\"MONTHS SINCE POLICY INCEPTION\"])\n",
    "X[\"MONTHS SINCE POLICY INCEPTION_TEMP\"]=X[\"MONTHS SINCE POLICY INCEPTION_TEMP\"].replace(0,X[\"MONTHS SINCE POLICY INCEPTION\"].mean())\n",
    "\n",
    "arr, lmbda=stats.boxcox(X[\"MONTHS SINCE POLICY INCEPTION_TEMP\"])\n",
    "sns.histplot(arr)\n",
    "plt.show()"
   ]
  },
  {
   "cell_type": "markdown",
   "id": "fefe964e",
   "metadata": {},
   "source": [
    "## X Train X Test"
   ]
  },
  {
   "cell_type": "code",
   "execution_count": null,
   "id": "0e6d12c4",
   "metadata": {},
   "outputs": [],
   "source": [
    "from sklearn.model_selection import train_test_split"
   ]
  },
  {
   "cell_type": "code",
   "execution_count": null,
   "id": "4988623d",
   "metadata": {},
   "outputs": [],
   "source": [
    "X_train, X_test, Y_train, Y_test = train_test_split(X,Y,test_size=0.4,random_state=100)"
   ]
  },
  {
   "cell_type": "code",
   "execution_count": null,
   "id": "79f0bc3e",
   "metadata": {},
   "outputs": [],
   "source": [
    "len(X)"
   ]
  },
  {
   "cell_type": "code",
   "execution_count": null,
   "id": "a0099baf",
   "metadata": {},
   "outputs": [],
   "source": [
    "len(X_test)"
   ]
  },
  {
   "cell_type": "code",
   "execution_count": null,
   "id": "00b3e56d",
   "metadata": {},
   "outputs": [],
   "source": [
    "import statsmodels.api as nm\n",
    "import statsmodels.api as sm"
   ]
  },
  {
   "cell_type": "code",
   "execution_count": null,
   "id": "ec262372",
   "metadata": {},
   "outputs": [],
   "source": [
    "model = sm.OLS(Y_train,X_train).fit()"
   ]
  },
  {
   "cell_type": "code",
   "execution_count": null,
   "id": "229f4fc6",
   "metadata": {},
   "outputs": [],
   "source": [
    "predictions = model.predict(X_test)"
   ]
  },
  {
   "cell_type": "code",
   "execution_count": null,
   "id": "f998da3e",
   "metadata": {},
   "outputs": [],
   "source": [
    "from sklearn.metrics import r2_score"
   ]
  },
  {
   "cell_type": "code",
   "execution_count": null,
   "id": "999a4771",
   "metadata": {},
   "outputs": [],
   "source": [
    "r2_score(Y_test,predictions)"
   ]
  },
  {
   "cell_type": "code",
   "execution_count": 9,
   "id": "b5d64215",
   "metadata": {},
   "outputs": [],
   "source": [
    "X.to_csv('X_final_data.csv')"
   ]
  },
  {
   "cell_type": "code",
   "execution_count": 10,
   "id": "bfb69b01",
   "metadata": {},
   "outputs": [],
   "source": [
    "Y.to_csv('Y_final_data.csv')"
   ]
  },
  {
   "cell_type": "code",
   "execution_count": null,
   "id": "b113471c",
   "metadata": {},
   "outputs": [],
   "source": []
  }
 ],
 "metadata": {
  "kernelspec": {
   "display_name": "Python 3 (ipykernel)",
   "language": "python",
   "name": "python3"
  },
  "language_info": {
   "codemirror_mode": {
    "name": "ipython",
    "version": 3
   },
   "file_extension": ".py",
   "mimetype": "text/x-python",
   "name": "python",
   "nbconvert_exporter": "python",
   "pygments_lexer": "ipython3",
   "version": "3.9.13"
  }
 },
 "nbformat": 4,
 "nbformat_minor": 5
}
